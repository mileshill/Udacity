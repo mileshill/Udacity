{
 "cells": [
  {
   "cell_type": "markdown",
   "metadata": {},
   "source": [
    "<h1>Classification and Regression</h1>"
   ]
  },
  {
   "cell_type": "markdown",
   "metadata": {},
   "source": [
    "<b>Classification</b><br>\n",
    "Classification is about labeling data. Given some input vector $\\overline{x}$, that input vector will map to a label $ y $. \n",
    "\n",
    "Thus, for any $N$ vectors $\\overline{x}$ there can be up to $y_N$ possible labels.\n",
    "$$ \\overline{x}_i \\rightarrow y_j $$\n",
    "\n",
    "where $ i,j \\in [1,N] $ and $i,j$ may be equal.\n",
    "<br>\n",
    "\n",
    "<b>Classification Evaluation Metrics</b>\n",
    "<ul>\n",
    "    <li> accuracy </li>\n",
    "    <li> precision </li>\n",
    "    <li> recall </li>\n",
    "    <li> F-score </li>\n",
    "</ul>"
   ]
  },
  {
   "cell_type": "markdown",
   "metadata": {},
   "source": [
    "<b>Regression</b><br>\n",
    "Regression is about predicting a continuous output based on an input vector. The range for $y$ will be determined by the trianing set.\n",
    "<br>\n",
    "\n",
    "<b>Regression Evaluation Metrics</b>\n",
    "<ul>\n",
    "    <li> Mean </li>\n",
    "    <li> Absolute error </li>\n",
    "    <li> Mean squared error </li>\n",
    "</ul>"
   ]
  },
  {
   "cell_type": "markdown",
   "metadata": {
    "collapsed": true
   },
   "source": [
    "<h1>Classification Metrics</h1>\n",
    "<b>Accuracy</b>: Not ideal for<br>\n",
    "Skewed Classes<br>\n",
    "You want to weight the choices\n",
    "\n",
    "<>"
   ]
  },
  {
   "cell_type": "code",
   "execution_count": null,
   "metadata": {
    "collapsed": true
   },
   "outputs": [],
   "source": []
  }
 ],
 "metadata": {
  "kernelspec": {
   "display_name": "Python 2",
   "language": "python",
   "name": "python2"
  },
  "language_info": {
   "codemirror_mode": {
    "name": "ipython",
    "version": 2
   },
   "file_extension": ".py",
   "mimetype": "text/x-python",
   "name": "python",
   "nbconvert_exporter": "python",
   "pygments_lexer": "ipython2",
   "version": "2.7.11"
  }
 },
 "nbformat": 4,
 "nbformat_minor": 0
}
